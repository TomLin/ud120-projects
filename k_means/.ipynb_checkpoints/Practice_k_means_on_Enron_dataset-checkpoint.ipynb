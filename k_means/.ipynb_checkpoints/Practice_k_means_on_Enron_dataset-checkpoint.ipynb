{
 "cells": [
  {
   "cell_type": "code",
   "execution_count": 1,
   "metadata": {
    "collapsed": true
   },
   "outputs": [],
   "source": [
    "import pickle\n",
    "import numpy\n",
    "import matplotlib.pyplot as plt\n",
    "import sys\n",
    "sys.path.append(\"../tools/\")\n",
    "from feature_format import featureFormat, targetFeatureSplit"
   ]
  },
  {
   "cell_type": "code",
   "execution_count": 2,
   "metadata": {
    "collapsed": true
   },
   "outputs": [],
   "source": [
    "def Draw(pred, features, poi, mark_poi=False, name=\"image.png\", f1_name=\"feature 1\", f2_name=\"feature 2\"):\n",
    "    \"\"\" some plotting code designed to help you visualize your clusters \"\"\"\n",
    "\n",
    "    ### plot each cluster with a different color--add more colors for\n",
    "    ### drawing more than five clusters\n",
    "    colors = [\"b\", \"c\", \"k\", \"m\", \"g\"]\n",
    "    for ii, pp in enumerate(pred):\n",
    "        plt.scatter(features[ii][0], features[ii][1], color = colors[pred[ii]])\n",
    "\n",
    "    ### if you like, place red stars over points that are POIs (just for funsies)\n",
    "    if mark_poi:\n",
    "        for ii, pp in enumerate(pred):\n",
    "            if poi[ii]:\n",
    "                plt.scatter(features[ii][0], features[ii][1], color=\"r\", marker=\"*\")\n",
    "    plt.xlabel(f1_name)\n",
    "    plt.ylabel(f2_name)\n",
    "    plt.savefig(name)\n",
    "    plt.show()"
   ]
  },
  {
   "cell_type": "code",
   "execution_count": 3,
   "metadata": {
    "collapsed": true
   },
   "outputs": [],
   "source": [
    "### load in the dict of dicts containing all the data on each person in the dataset\n",
    "data_dict = pickle.load( open(\"../final_project/final_project_dataset.pkl\", \"r\") )"
   ]
  },
  {
   "cell_type": "code",
   "execution_count": 7,
   "metadata": {},
   "outputs": [
    {
     "name": "stdout",
     "output_type": "stream",
     "text": [
      "{'bonus': 97343619,\n",
      " 'deferral_payments': 32083396,\n",
      " 'deferred_income': -27992891,\n",
      " 'director_fees': 1398517,\n",
      " 'email_address': 'NaN',\n",
      " 'exercised_stock_options': 311764000,\n",
      " 'expenses': 5235198,\n",
      " 'from_messages': 'NaN',\n",
      " 'from_poi_to_this_person': 'NaN',\n",
      " 'from_this_person_to_poi': 'NaN',\n",
      " 'loan_advances': 83925000,\n",
      " 'long_term_incentive': 48521928,\n",
      " 'other': 42667589,\n",
      " 'poi': False,\n",
      " 'restricted_stock': 130322299,\n",
      " 'restricted_stock_deferred': -7576788,\n",
      " 'salary': 26704229,\n",
      " 'shared_receipt_with_poi': 'NaN',\n",
      " 'to_messages': 'NaN',\n",
      " 'total_payments': 309886585,\n",
      " 'total_stock_value': 434509511}\n"
     ]
    }
   ],
   "source": [
    "import pprint \n",
    "#pprint.pprint(data_dict)\n",
    "pprint.pprint(data_dict['TOTAL'])"
   ]
  },
  {
   "cell_type": "code",
   "execution_count": 14,
   "metadata": {},
   "outputs": [
    {
     "data": {
      "text/plain": [
       "0"
      ]
     },
     "execution_count": 14,
     "metadata": {},
     "output_type": "execute_result"
    }
   ],
   "source": [
    "data_dict.pop('TOTAL',0)"
   ]
  },
  {
   "cell_type": "code",
   "execution_count": 15,
   "metadata": {
    "collapsed": true
   },
   "outputs": [],
   "source": [
    "### the input features we want to use \n",
    "### can be any key in the person-level dictionary (salary, director_fees, etc.) \n",
    "feature_1 = \"salary\"\n",
    "feature_2 = \"exercised_stock_options\"\n",
    "poi  = \"poi\"\n",
    "features_list = [poi, feature_1, feature_2]"
   ]
  },
  {
   "cell_type": "code",
   "execution_count": 16,
   "metadata": {
    "collapsed": true
   },
   "outputs": [],
   "source": [
    "data = featureFormat(data_dict, features_list )"
   ]
  },
  {
   "cell_type": "code",
   "execution_count": 31,
   "metadata": {},
   "outputs": [],
   "source": [
    "import numpy as np"
   ]
  },
  {
   "cell_type": "code",
   "execution_count": 32,
   "metadata": {
    "collapsed": true
   },
   "outputs": [],
   "source": [
    "np.set_printoptions(formatter={'float': '{: 0.3f}'.format})"
   ]
  },
  {
   "cell_type": "code",
   "execution_count": 33,
   "metadata": {},
   "outputs": [
    {
     "name": "stdout",
     "output_type": "stream",
     "text": [
      "[[ 0.000  365788.000  0.000]\n",
      " [ 0.000  267102.000  6680544.000]\n",
      " [ 0.000  170941.000  4890344.000]\n",
      " [ 0.000  0.000  651850.000]\n",
      " [ 1.000  243293.000  5538001.000]\n",
      " [ 0.000  267093.000  0.000]\n",
      " [ 0.000  0.000  493489.000]\n",
      " [ 0.000  370448.000  1104054.000]\n",
      " [ 0.000  0.000  5210569.000]\n",
      " [ 0.000  197091.000  880290.000]\n",
      " [ 0.000  130724.000  2282768.000]\n",
      " [ 0.000  288589.000  0.000]\n",
      " [ 0.000  248546.000  765313.000]\n",
      " [ 0.000  257486.000  0.000]\n",
      " [ 0.000  0.000  2218275.000]\n",
      " [ 0.000  0.000  372205.000]\n",
      " [ 1.000  288542.000  0.000]\n",
      " [ 0.000  251654.000  1056320.000]\n",
      " [ 0.000  288558.000  185063.000]\n",
      " [ 0.000  63744.000  0.000]\n",
      " [ 0.000  0.000  1030329.000]\n",
      " [ 0.000  357091.000  4346544.000]\n",
      " [ 0.000  271442.000  81042.000]\n",
      " [ 0.000  0.000  3285.000]\n",
      " [ 0.000  304110.000  1441898.000]\n",
      " [ 0.000  187922.000  0.000]\n",
      " [ 0.000  213625.000  1465734.000]\n",
      " [ 1.000  249201.000  1635238.000]\n",
      " [ 0.000  0.000  98718.000]\n",
      " [ 0.000  231330.000  0.000]\n",
      " [ 0.000  182245.000  601438.000]\n",
      " [ 0.000  211788.000  0.000]\n",
      " [ 0.000  0.000  850477.000]\n",
      " [ 0.000  0.000  664375.000]\n",
      " [ 1.000  224305.000  0.000]\n",
      " [ 0.000  273746.000  0.000]\n",
      " [ 0.000  339288.000  4158995.000]\n",
      " [ 0.000  216582.000  1624396.000]\n",
      " [ 0.000  210500.000  2027865.000]\n",
      " [ 0.000  272880.000  436515.000]\n",
      " [ 0.000  477.000  4046157.000]\n",
      " [ 0.000  0.000  371750.000]\n",
      " [ 0.000  269076.000  607837.000]\n",
      " [ 0.000  428780.000  1835558.000]\n",
      " [ 1.000  211844.000  1624396.000]\n",
      " [ 0.000  0.000  412878.000]\n",
      " [ 0.000  206121.000  17378.000]\n",
      " [ 0.000  174246.000  0.000]\n",
      " [ 0.000  510364.000  3282960.000]\n",
      " [ 0.000  365038.000  1623010.000]\n",
      " [ 1.000  365163.000  2291113.000]\n",
      " [ 0.000  162779.000  1362375.000]\n",
      " [ 0.000  0.000  139130.000]\n",
      " [ 0.000  236457.000  2549361.000]\n",
      " [ 1.000  1072321.000  34348384.000]\n",
      " [ 0.000  261516.000  0.000]\n",
      " [ 0.000  329078.000  1637034.000]\n",
      " [ 0.000  0.000  757301.000]\n",
      " [ 0.000  184899.000  0.000]\n",
      " [ 0.000  192008.000  83237.000]\n",
      " [ 0.000  263413.000  506765.000]\n",
      " [ 0.000  262663.000  187500.000]\n",
      " [ 0.000  0.000  759557.000]\n",
      " [ 0.000  0.000  1753766.000]\n",
      " [ 0.000  374125.000  608750.000]\n",
      " [ 1.000  278601.000  0.000]\n",
      " [ 0.000  0.000  9803.000]\n",
      " [ 0.000  199157.000  664461.000]\n",
      " [ 0.000  0.000  59539.000]\n",
      " [ 0.000  96840.000  7509039.000]\n",
      " [ 0.000  80818.000  1599641.000]\n",
      " [ 1.000  213999.000  953136.000]\n",
      " [ 0.000  210692.000  1451869.000]\n",
      " [ 0.000  222093.000  4452476.000]\n",
      " [ 1.000  440698.000  0.000]\n",
      " [ 0.000  0.000  343434.000]\n",
      " [ 1.000  240189.000  0.000]\n",
      " [ 1.000  420636.000  19794175.000]\n",
      " [ 0.000  275101.000  850010.000]\n",
      " [ 0.000  314288.000  117551.000]\n",
      " [ 0.000  94941.000  5266578.000]\n",
      " [ 0.000  239502.000  0.000]\n",
      " [ 1.000  1111258.000  19250000.000]\n",
      " [ 0.000  0.000  1426469.000]\n",
      " [ 0.000  0.000  886231.000]\n",
      " [ 0.000  6615.000  0.000]\n",
      " [ 0.000  655037.000  28798.000]\n",
      " [ 0.000  404338.000  2022048.000]\n",
      " [ 0.000  0.000  1324578.000]\n",
      " [ 0.000  259996.000  1668260.000]\n",
      " [ 0.000  317543.000  1297049.000]\n",
      " [ 0.000  0.000  5127155.000]\n",
      " [ 0.000  201955.000  1729541.000]\n",
      " [ 0.000  248146.000  281073.000]\n",
      " [ 0.000  0.000  431750.000]\n",
      " [ 0.000  0.000  257817.000]\n",
      " [ 0.000  0.000  754966.000]\n",
      " [ 0.000  76399.000  4160672.000]\n",
      " [ 0.000  262788.000  8191755.000]\n",
      " [ 0.000  0.000  2604490.000]\n",
      " [ 0.000  261809.000  0.000]\n",
      " [ 0.000  248017.000  825464.000]\n",
      " [ 0.000  0.000  192758.000]\n",
      " [ 0.000  229284.000  400478.000]\n",
      " [ 0.000  231946.000  636246.000]\n",
      " [ 0.000  221003.000  0.000]\n",
      " [ 1.000  158403.000  8308552.000]\n",
      " [ 1.000  0.000  30766064.000]\n",
      " [ 0.000  250100.000  1550019.000]\n",
      " [ 0.000  492375.000  8831913.000]\n",
      " [ 0.000  1060932.000  10433518.000]\n",
      " [ 0.000  261879.000  15364167.000]\n",
      " [ 0.000  239671.000  0.000]\n",
      " [ 0.000  0.000  176378.000]\n",
      " [ 0.000  304588.000  940257.000]\n",
      " [ 1.000  309946.000  671737.000]\n",
      " [ 0.000  85274.000  2165172.000]\n",
      " [ 0.000  247338.000  591250.000]\n",
      " [ 0.000  349487.000  2070306.000]\n",
      " [ 0.000  330546.000  2542813.000]\n",
      " [ 1.000  415189.000  0.000]\n",
      " [ 0.000  265214.000  3181250.000]\n",
      " [ 0.000  278601.000  765920.000]\n",
      " [ 1.000  274975.000  384728.000]]\n"
     ]
    }
   ],
   "source": [
    "print data"
   ]
  },
  {
   "cell_type": "code",
   "execution_count": 34,
   "metadata": {
    "collapsed": true
   },
   "outputs": [],
   "source": [
    "poi, finance_features = targetFeatureSplit( data )"
   ]
  },
  {
   "cell_type": "code",
   "execution_count": 36,
   "metadata": {},
   "outputs": [
    {
     "name": "stdout",
     "output_type": "stream",
     "text": [
      "[array([ 365788.000,  0.000]), array([ 267102.000,  6680544.000]), array([ 170941.000,  4890344.000]), array([ 0.000,  651850.000]), array([ 243293.000,  5538001.000]), array([ 267093.000,  0.000]), array([ 0.000,  493489.000]), array([ 370448.000,  1104054.000]), array([ 0.000,  5210569.000]), array([ 197091.000,  880290.000]), array([ 130724.000,  2282768.000]), array([ 288589.000,  0.000]), array([ 248546.000,  765313.000]), array([ 257486.000,  0.000]), array([ 0.000,  2218275.000]), array([ 0.000,  372205.000]), array([ 288542.000,  0.000]), array([ 251654.000,  1056320.000]), array([ 288558.000,  185063.000]), array([ 63744.000,  0.000]), array([ 0.000,  1030329.000]), array([ 357091.000,  4346544.000]), array([ 271442.000,  81042.000]), array([ 0.000,  3285.000]), array([ 304110.000,  1441898.000]), array([ 187922.000,  0.000]), array([ 213625.000,  1465734.000]), array([ 249201.000,  1635238.000]), array([ 0.000,  98718.000]), array([ 231330.000,  0.000]), array([ 182245.000,  601438.000]), array([ 211788.000,  0.000]), array([ 0.000,  850477.000]), array([ 0.000,  664375.000]), array([ 224305.000,  0.000]), array([ 273746.000,  0.000]), array([ 339288.000,  4158995.000]), array([ 216582.000,  1624396.000]), array([ 210500.000,  2027865.000]), array([ 272880.000,  436515.000]), array([ 477.000,  4046157.000]), array([ 0.000,  371750.000]), array([ 269076.000,  607837.000]), array([ 428780.000,  1835558.000]), array([ 211844.000,  1624396.000]), array([ 0.000,  412878.000]), array([ 206121.000,  17378.000]), array([ 174246.000,  0.000]), array([ 510364.000,  3282960.000]), array([ 365038.000,  1623010.000]), array([ 365163.000,  2291113.000]), array([ 162779.000,  1362375.000]), array([ 0.000,  139130.000]), array([ 236457.000,  2549361.000]), array([ 1072321.000,  34348384.000]), array([ 261516.000,  0.000]), array([ 329078.000,  1637034.000]), array([ 0.000,  757301.000]), array([ 184899.000,  0.000]), array([ 192008.000,  83237.000]), array([ 263413.000,  506765.000]), array([ 262663.000,  187500.000]), array([ 0.000,  759557.000]), array([ 0.000,  1753766.000]), array([ 374125.000,  608750.000]), array([ 278601.000,  0.000]), array([ 0.000,  9803.000]), array([ 199157.000,  664461.000]), array([ 0.000,  59539.000]), array([ 96840.000,  7509039.000]), array([ 80818.000,  1599641.000]), array([ 213999.000,  953136.000]), array([ 210692.000,  1451869.000]), array([ 222093.000,  4452476.000]), array([ 440698.000,  0.000]), array([ 0.000,  343434.000]), array([ 240189.000,  0.000]), array([ 420636.000,  19794175.000]), array([ 275101.000,  850010.000]), array([ 314288.000,  117551.000]), array([ 94941.000,  5266578.000]), array([ 239502.000,  0.000]), array([ 1111258.000,  19250000.000]), array([ 0.000,  1426469.000]), array([ 0.000,  886231.000]), array([ 6615.000,  0.000]), array([ 655037.000,  28798.000]), array([ 404338.000,  2022048.000]), array([ 0.000,  1324578.000]), array([ 259996.000,  1668260.000]), array([ 317543.000,  1297049.000]), array([ 0.000,  5127155.000]), array([ 201955.000,  1729541.000]), array([ 248146.000,  281073.000]), array([ 0.000,  431750.000]), array([ 0.000,  257817.000]), array([ 0.000,  754966.000]), array([ 76399.000,  4160672.000]), array([ 262788.000,  8191755.000]), array([ 0.000,  2604490.000]), array([ 261809.000,  0.000]), array([ 248017.000,  825464.000]), array([ 0.000,  192758.000]), array([ 229284.000,  400478.000]), array([ 231946.000,  636246.000]), array([ 221003.000,  0.000]), array([ 158403.000,  8308552.000]), array([ 0.000,  30766064.000]), array([ 250100.000,  1550019.000]), array([ 492375.000,  8831913.000]), array([ 1060932.000,  10433518.000]), array([ 261879.000,  15364167.000]), array([ 239671.000,  0.000]), array([ 0.000,  176378.000]), array([ 304588.000,  940257.000]), array([ 309946.000,  671737.000]), array([ 85274.000,  2165172.000]), array([ 247338.000,  591250.000]), array([ 349487.000,  2070306.000]), array([ 330546.000,  2542813.000]), array([ 415189.000,  0.000]), array([ 265214.000,  3181250.000]), array([ 278601.000,  765920.000]), array([ 274975.000,  384728.000])]\n"
     ]
    }
   ],
   "source": [
    "print finance_features"
   ]
  },
  {
   "cell_type": "code",
   "execution_count": 37,
   "metadata": {},
   "outputs": [
    {
     "data": {
      "image/png": "[encoded data removed]",
      "text/plain": [
       "<matplotlib.figure.Figure at 0x111b91190>"
      ]
     },
     "metadata": {},
     "output_type": "display_data"
    }
   ],
   "source": [
    "### in the \"clustering with 3 features\" part of the mini-project,\n",
    "### you'll want to change this line to \n",
    "### for f1, f2, _ in finance_features:\n",
    "### (as it's currently written, the line below assumes 2 features)\n",
    "for f1, f2 in finance_features:\n",
    "    plt.scatter( f1, f2 )\n",
    "plt.show()"
   ]
  },
  {
   "cell_type": "code",
   "execution_count": 43,
   "metadata": {},
   "outputs": [
    {
     "name": "stdout",
     "output_type": "stream",
     "text": [
      "[array([ 365788.000,  0.000]), array([ 267102.000,  6680544.000]), array([ 170941.000,  4890344.000]), array([ 0.000,  651850.000]), array([ 243293.000,  5538001.000])]\n",
      "[1 1 1 1 1]\n"
     ]
    }
   ],
   "source": [
    "from sklearn.cluster import KMeans\n",
    "kclf = KMeans(n_clusters=2)\n",
    "kclf.fit(finance_features)\n",
    "pred = kclf.predict(finance_features)\n",
    "print finance_features[:5]\n",
    "print pred[:5]"
   ]
  },
  {
   "cell_type": "code",
   "execution_count": 44,
   "metadata": {},
   "outputs": [
    {
     "data": {
      "image/png": "[encoded data removed]",
      "text/plain": [
       "<matplotlib.figure.Figure at 0x111adfa50>"
      ]
     },
     "metadata": {},
     "output_type": "display_data"
    }
   ],
   "source": [
    "try:\n",
    "    Draw(pred, finance_features, poi, mark_poi=False, name=\"clusters.pdf\", f1_name=feature_1, f2_name=feature_2)\n",
    "except NameError:\n",
    "    print \"no predictions object named pred found, no clusters to plot\""
   ]
  },
  {
   "cell_type": "code",
   "execution_count": 45,
   "metadata": {},
   "outputs": [
    {
     "name": "stdout",
     "output_type": "stream",
     "text": [
      "[1 1 1 1 1 1 1 1 1 1 1 1 1 1 1 1 1 1 1 1 1 1 1 1 1 1 1 1 1 1 1 1 1 1 1 1 1\n",
      " 1 1 1 1 1 1 1 1 1 1 1 1 1 1 1 1 1 0 1 1 1 1 1 1 1 1 1 1 1 1 1 1 1 1 1 1 1\n",
      " 1 1 1 0 1 1 1 1 0 1 1 1 1 1 1 1 1 1 1 1 1 1 1 1 1 1 1 1 1 1 1 1 1 0 1 1 1\n",
      " 0 1 1 1 1 1 1 1 1 1 1 1 1]\n"
     ]
    }
   ],
   "source": [
    "print pred"
   ]
  },
  {
   "cell_type": "code",
   "execution_count": 46,
   "metadata": {},
   "outputs": [
    {
     "name": "stdout",
     "output_type": "stream",
     "text": [
      "0 1\n",
      "1 1\n",
      "2 1\n",
      "3 1\n",
      "4 1\n"
     ]
    }
   ],
   "source": [
    "for ii, pp in enumerate(pred[:5]):\n",
    "    print ii,pp"
   ]
  },
  {
   "cell_type": "code",
   "execution_count": null,
   "metadata": {
    "collapsed": true
   },
   "outputs": [],
   "source": []
  }
 ],
 "metadata": {
  "kernelspec": {
   "display_name": "Python 2",
   "language": "python",
   "name": "python2"
  },
  "language_info": {
   "codemirror_mode": {
    "name": "ipython",
    "version": 2
   },
   "file_extension": ".py",
   "mimetype": "text/x-python",
   "name": "python",
   "nbconvert_exporter": "python",
   "pygments_lexer": "ipython2",
   "version": "2.7.14"
  }
 },
 "nbformat": 4,
 "nbformat_minor": 2
}
